{
 "cells": [
  {
   "cell_type": "markdown",
   "metadata": {},
   "source": [
    "# Machine Learning Engineer Nanodegree\n",
    "# Capstone\n",
    "# Project: To find an Optimum Machine Learning Model for Human Activity        Recognition with Smartphone Sensor Data"
   ]
  },
  {
   "cell_type": "markdown",
   "metadata": {},
   "source": [
    "This is the Capstone for MLND.\n",
    "Our purpose is to recognize human activity based on the sensor data from smartphones and to find an optimum model with can predict these activities with high degree of accuracy."
   ]
  },
  {
   "cell_type": "code",
   "execution_count": 1,
   "metadata": {
    "collapsed": true
   },
   "outputs": [],
   "source": [
    "# Import the Necessary Libraries\n",
    "\n",
    "import time, pickle\n",
    "import numpy as np\n",
    "from numpy import array\n",
    "import pandas as pd\n",
    "%matplotlib inline\n",
    "import matplotlib.pyplot as plt\n",
    "from IPython.display import display # Allows the use of display() for DataFrames\n",
    "from sklearn.model_selection import train_test_split\n",
    "import seaborn as sns\n",
    "from sklearn.preprocessing import LabelEncoder, OneHotEncoder\n",
    "from sklearn.metrics import accuracy_score, f1_score, log_loss\n",
    "\n",
    "# Use pickle to open stored objects.\n",
    "with open('data.pickle','rb') as f:\n",
    "    data = pickle.load(f)\n",
    "with open('X_train.pickle','rb') as f:\n",
    "    X_train = pickle.load(f)\n",
    "with open('X_test.pickle','rb') as f:\n",
    "    X_test = pickle.load(f)\n",
    "with open('y_train.pickle','rb') as f:\n",
    "    y_train = pickle.load(f)\n",
    "with open('y_test.pickle','rb') as f:\n",
    "    y_test = pickle.load(f)\n",
    "with open('y_true.pickle','rb') as f:\n",
    "    y_true = pickle.load(f)"
   ]
  },
  {
   "cell_type": "markdown",
   "metadata": {},
   "source": [
    "### Support Vector Classifier(SVC)\n",
    "Let us use a SVC to how it performs against our dataset."
   ]
  },
  {
   "cell_type": "code",
   "execution_count": 50,
   "metadata": {
    "collapsed": true
   },
   "outputs": [],
   "source": [
    "# import SVC from sklearn\n",
    "from sklearn.svm import SVC"
   ]
  },
  {
   "cell_type": "code",
   "execution_count": 73,
   "metadata": {},
   "outputs": [
    {
     "name": "stdout",
     "output_type": "stream",
     "text": [
      "Accuracy Score for SVC is: 0.944336569579\n",
      "F1 Score for SVC is: 0.944145032047\n",
      "Runtime is 57.966881\n"
     ]
    }
   ],
   "source": [
    "# predict accuracy with SVC using the processed data\n",
    "clf_svc = SVC(probability=True)  # so that we can use predict.proba later for log loss\n",
    "start = time.clock()\n",
    "clf_svc.fit(X_train, y_train)\n",
    "pred_svc = clf_svc.predict(X_test)\n",
    "end = time.clock()\n",
    "runtime = end-start\n",
    "print('Accuracy Score for SVC is: {}'.format(accuracy_score(y_test, pred_svc)))\n",
    "print('F1 Score for SVC is: {}'.format(f1_score(y_test, pred_svc, average = 'weighted')))\n",
    "print('Runtime is {} seconds'.format(end-start))"
   ]
  },
  {
   "cell_type": "markdown",
   "metadata": {},
   "source": [
    "**Results: **Considering that we have fit the model without tuning any parameters, our SVC model is performing exceptionally in terms of F1 score.\n",
    "\n",
    "Now, lets calculate the log loss metric for the SVC model.\n",
    "\n",
    "One thing to keep in mind that, log loss can work only when the target variable is binary. But in our case the target class, Activities has numercal categorical values [0, 1, 2, 3, 4, 5].\n",
    "We will use One Hot Encoding to the convert the numercal categorical values into binary catagorical values."
   ]
  },
  {
   "cell_type": "code",
   "execution_count": 75,
   "metadata": {},
   "outputs": [
    {
     "name": "stdout",
     "output_type": "stream",
     "text": [
      "Log Loss Score is: 0.124973620049\n"
     ]
    }
   ],
   "source": [
    "# Use predict prob and store into y_pred\n",
    "y_pred = clf_svc.predict_proba(X_test)\n",
    "print('Log Loss Score is: {}'.format(log_loss(y_true, y_pred)))"
   ]
  },
  {
   "cell_type": "markdown",
   "metadata": {},
   "source": [
    "Our unoptimized SVC has the following results:\n",
    "* Accuracy Score for SVC is: 0.944336569579\n",
    "* F1 Score for SVC is: 0.944145032047\n",
    "* Log Loss Score is: 0.124973620049\n",
    "* Runtime is 57.966881\n",
    "\n",
    "\n",
    "***Let's optimize our SVC using GridSearchCV from sklearn***"
   ]
  },
  {
   "cell_type": "markdown",
   "metadata": {},
   "source": [
    "For our SVC we have choosen 'rbf' as our kernel function. A SVC with 'rbf' kernel has thow parameters that needs tuning. The gamma and C. Let us create a dictonary containing ranges of gamma and C and then use GridSearch to find the best set of C and gamma."
   ]
  },
  {
   "cell_type": "code",
   "execution_count": 26,
   "metadata": {
    "collapsed": true
   },
   "outputs": [],
   "source": [
    "# Import GridSearchCV\n",
    "from sklearn.model_selection import GridSearchCV\n",
    "clf_svc = SVC(kernel = 'rbf')\n",
    "parameters = {'C':10.**np.arange(-3, 8), 'gamma': 10.**np.arange(-5, 4)} \n",
    "grid = GridSearchCV(clf_svc, parameters, scoring = 'accuracy', n_jobs = -1, verbose=True)"
   ]
  },
  {
   "cell_type": "code",
   "execution_count": 27,
   "metadata": {},
   "outputs": [
    {
     "name": "stdout",
     "output_type": "stream",
     "text": [
      "Fitting 3 folds for each of 99 candidates, totalling 297 fits\n"
     ]
    },
    {
     "name": "stderr",
     "output_type": "stream",
     "text": [
      "[Parallel(n_jobs=-1)]: Done  42 tasks      | elapsed: 29.9min\n",
      "[Parallel(n_jobs=-1)]: Done 192 tasks      | elapsed: 106.7min\n",
      "[Parallel(n_jobs=-1)]: Done 297 out of 297 | elapsed: 149.5min finished\n"
     ]
    },
    {
     "name": "stdout",
     "output_type": "stream",
     "text": [
      "('The best classifier is: ', SVC(C=100.0, cache_size=200, class_weight=None, coef0=0.0,\n",
      "  decision_function_shape=None, degree=3, gamma=0.01, kernel='rbf',\n",
      "  max_iter=-1, probability=False, random_state=None, shrinking=True,\n",
      "  tol=0.001, verbose=False))\n"
     ]
    }
   ],
   "source": [
    "grid.fit(X_train, y_train)\n",
    "print(\"The best classifier is: \", grid.best_estimator_)"
   ]
  },
  {
   "cell_type": "markdown",
   "metadata": {},
   "source": [
    "In the above code block, We are using a logarithmic grid for both parameters, which gives an optimum C=100 and gamma = 0.01. Let us use this to train and predict out svc classifier."
   ]
  },
  {
   "cell_type": "code",
   "execution_count": 32,
   "metadata": {},
   "outputs": [
    {
     "name": "stdout",
     "output_type": "stream",
     "text": [
      "Accuracy Score for SVC is: 0.991909385113\n",
      "F1 Score for SVC is: 0.991903881519\n",
      "Runtime is 19.881993 seconds\n",
      "Log Loss Score is: 0.0256942250936\n"
     ]
    }
   ],
   "source": [
    "# predict accuracy with SVC using C = 100 and gamma = 0.01\n",
    "clf_svc = SVC(C =100, gamma = 0.01, probability=True, random_state = 11)\n",
    "start = time.clock()\n",
    "clf_svc.fit(X_train, y_train)\n",
    "pred_svc = clf_svc.predict(X_test)\n",
    "end = time.clock()\n",
    "y_pred = clf_svc.predict_proba(X_test)\n",
    "runtime = end-start\n",
    "print('Accuracy Score for SVC is: {}'.format(accuracy_score(y_test, pred_svc)))\n",
    "print('F1 Score for SVC is: {}'.format(f1_score(y_test, pred_svc, average = 'weighted')))\n",
    "print('Runtime is {} seconds'.format(end-start))\n",
    "print('Log Loss Score is: {}'.format(log_loss(y_true, y_pred)))"
   ]
  },
  {
   "cell_type": "markdown",
   "metadata": {},
   "source": [
    "**Result: **Our model's F1 and log loss score has improved quite a lot for C = 100 and gamma = 0.01.\n",
    "\n",
    "Let us again use Grid Search to tune C and gmma further."
   ]
  },
  {
   "cell_type": "code",
   "execution_count": 41,
   "metadata": {},
   "outputs": [
    {
     "name": "stdout",
     "output_type": "stream",
     "text": [
      "Fitting 3 folds for each of 64 candidates, totalling 192 fits\n"
     ]
    },
    {
     "name": "stderr",
     "output_type": "stream",
     "text": [
      "[Parallel(n_jobs=-1)]: Done  42 tasks      | elapsed:  3.1min\n",
      "[Parallel(n_jobs=-1)]: Done 192 out of 192 | elapsed: 16.5min finished\n"
     ]
    },
    {
     "name": "stdout",
     "output_type": "stream",
     "text": [
      "('The best classifier is: ', SVC(C=99, cache_size=200, class_weight=None, coef0=0.0,\n",
      "  decision_function_shape=None, degree=3, gamma=0.0085, kernel='rbf',\n",
      "  max_iter=-1, probability=False, random_state=11, shrinking=True,\n",
      "  tol=0.001, verbose=False))\n",
      "('The best classifier is: ', 0.98737688999861284)\n"
     ]
    }
   ],
   "source": [
    "# Import GridSearchCV\n",
    "from sklearn.model_selection import GridSearchCV\n",
    "clf_svc = SVC(kernel = 'rbf', random_state = 11)\n",
    "parameters = {'C':[i for i in range(86, 101,1)], 'gamma': [0.0080, 0.0085, 0.009, 0.01, 0.0101]} \n",
    "grid = GridSearchCV(clf_svc, parameters, scoring = 'accuracy', n_jobs = -1, verbose=True)\n",
    "grid.fit(X_train, y_train)\n",
    "print(\"The best classifier is: \", grid.best_estimator_)\n",
    "print(\"The best classifier is: \", grid.best_score_)"
   ]
  },
  {
   "cell_type": "markdown",
   "metadata": {},
   "source": [
    "Grid Search gives an optimum C=99 and gamma = 0.0085 this time. Lets se how our model performs with these vaues."
   ]
  },
  {
   "cell_type": "code",
   "execution_count": 43,
   "metadata": {},
   "outputs": [
    {
     "name": "stdout",
     "output_type": "stream",
     "text": [
      "Accuracy Score for SVC is: 0.992233009709\n",
      "F1 Score for SVC is: 0.992227107078\n",
      "Runtime is 18.730906 seconds\n",
      "Log Loss Score is: 0.0256282742758\n"
     ]
    }
   ],
   "source": [
    "# predict accuracy with SVC using C = 99 and gamma = 0.0085\n",
    "clf_svc = SVC(C = 99, gamma = 0.0085, probability=True, random_state = 1)\n",
    "start = time.clock()\n",
    "clf_svc.fit(X_train, y_train)\n",
    "pred_svc = clf_svc.predict(X_test)\n",
    "end = time.clock()\n",
    "y_pred = clf_svc.predict_proba(X_test)\n",
    "runtime = end-start\n",
    "print('Accuracy Score for SVC is: {}'.format(accuracy_score(y_test, pred_svc)))\n",
    "print('F1 Score for SVC is: {}'.format(f1_score(y_test, pred_svc, average = 'weighted')))\n",
    "print('Runtime is {} seconds'.format(end-start))\n",
    "print('Log Loss Score is: {}'.format(log_loss(y_true, y_pred)))"
   ]
  },
  {
   "cell_type": "markdown",
   "metadata": {},
   "source": [
    "**Result:** F1 score and log loss has improved a little compared to the earlier values. So C = 99 and gamma = 0.0085 is our new optimum parameter values.\n",
    "\n",
    "Lets do grid search one more time to see if we can improve or predictions further."
   ]
  },
  {
   "cell_type": "code",
   "execution_count": 38,
   "metadata": {},
   "outputs": [
    {
     "name": "stdout",
     "output_type": "stream",
     "text": [
      "Fitting 3 folds for each of 35 candidates, totalling 105 fits\n"
     ]
    },
    {
     "name": "stderr",
     "output_type": "stream",
     "text": [
      "[Parallel(n_jobs=-1)]: Done  42 tasks      | elapsed:  3.3min\n",
      "[Parallel(n_jobs=-1)]: Done 105 out of 105 | elapsed:  8.8min finished\n"
     ]
    },
    {
     "name": "stdout",
     "output_type": "stream",
     "text": [
      "('The best classifier is: ', SVC(C=120, cache_size=200, class_weight=None, coef0=0.0,\n",
      "  decision_function_shape=None, degree=3, gamma=0.008, kernel='rbf',\n",
      "  max_iter=-1, probability=False, random_state=11, shrinking=True,\n",
      "  tol=0.001, verbose=False))\n"
     ]
    }
   ],
   "source": [
    "# Import GridSearchCV\n",
    "from sklearn.model_selection import GridSearchCV\n",
    "clf_svc = SVC(kernel = 'rbf', random_state = 11)\n",
    "parameters = {'C':[i*10 for i in range(6, 13)], 'gamma': [0.008, 0.0085, 0.009, 0.01, 0.0101]} \n",
    "grid = GridSearchCV(clf_svc, parameters, scoring = 'accuracy', n_jobs = -1, verbose=True)\n",
    "grid.fit(X_train, y_train)\n",
    "print(\"The best classifier is: \", grid.best_estimator_)"
   ]
  },
  {
   "cell_type": "code",
   "execution_count": 39,
   "metadata": {},
   "outputs": [
    {
     "data": {
      "text/plain": [
       "0.98751560549313355"
      ]
     },
     "execution_count": 39,
     "metadata": {},
     "output_type": "execute_result"
    }
   ],
   "source": [
    "grid.best_score_"
   ]
  },
  {
   "cell_type": "code",
   "execution_count": 40,
   "metadata": {},
   "outputs": [
    {
     "name": "stdout",
     "output_type": "stream",
     "text": [
      "Accuracy Score for SVC is: 0.991909385113\n",
      "F1 Score for SVC is: 0.991902594616\n",
      "Runtime is 19.64797 seconds\n",
      "Log Loss Score is: 0.0264823181324\n"
     ]
    }
   ],
   "source": [
    "# predict accuracy with SVC using C = 120 and gamma = 0.008\n",
    "clf_svc = SVC(C = 120, gamma = 0.008, probability=True, random_state = 12)\n",
    "start = time.clock()\n",
    "clf_svc.fit(X_train, y_train)\n",
    "pred_svc = clf_svc.predict(X_test)\n",
    "end = time.clock()\n",
    "y_pred = clf_svc.predict_proba(X_test)\n",
    "runtime = end-start\n",
    "print('Accuracy Score for SVC is: {}'.format(accuracy_score(y_test, pred_svc)))\n",
    "print('F1 Score for SVC is: {}'.format(f1_score(y_test, pred_svc, average = 'weighted')))\n",
    "print('Runtime is {} seconds'.format(end-start))\n",
    "print('Log Loss Score is: {}'.format(log_loss(y_true, y_pred)))"
   ]
  },
  {
   "cell_type": "markdown",
   "metadata": {},
   "source": [
    "**Results:**\n",
    "As we can see this time, for the Grid Search best patameters, our model perform worse on the test set, as f1 decreases and log loss increases compared to the earlier values. So our model is overfitting. So we will not consider these set of param values and our optimum C and gmma will remain same.\n",
    "\n",
    "* C : 99\n",
    "* gamma: 0.0085"
   ]
  },
  {
   "cell_type": "markdown",
   "metadata": {},
   "source": [
    "### SVC: Optimum Values:\n",
    "Let us store the optimum values for SVC for later comparisions:\n",
    "* Accuracy Score for SVC is: 0.992233009709\n",
    "* F1 Score for SVC is: 0.992227107078\n",
    "* Runtime is 18.730906 seconds\n",
    "* Log Loss Score is: 0.0256282742758"
   ]
  },
  {
   "cell_type": "markdown",
   "metadata": {},
   "source": [
    "### Training Accuracy plot using matplotlib\n",
    "Let us use matplotlib to plot a graph showing training accuracy vs cv accuracy\n",
    "\n",
    "Reference:_(http://scikit-learn.org/stable/auto_examples/model_selection/plot_learning_curve.html)_"
   ]
  },
  {
   "cell_type": "code",
   "execution_count": 43,
   "metadata": {},
   "outputs": [
    {
     "data": {
      "image/png": "[encoded data removed]",
      "text/plain": [
       "<matplotlib.figure.Figure at 0x7fae12db4890>"
      ]
     },
     "metadata": {},
     "output_type": "display_data"
    }
   ],
   "source": [
    "# import SVC from sklearn\n",
    "from sklearn.svm import SVC\n",
    "from sklearn.model_selection import learning_curve\n",
    "\n",
    "# Define the plotting function\n",
    "def plot_learning_curve(estimator, title, X, y, ylim=None, cv=None,\n",
    "                        n_jobs=1, train_sizes=np.linspace(.1, 1.0, 5)):\n",
    "    \"\"\"\n",
    "    Generate a simple plot of the test and training learning curve.\n",
    "\n",
    "    Parameters\n",
    "    ----------\n",
    "    estimator : object type that implements the \"fit\" and \"predict\" methods\n",
    "        An object of that type which is cloned for each validation.\n",
    "\n",
    "    title : string\n",
    "        Title for the chart.\n",
    "\n",
    "    X : array-like, shape (n_samples, n_features)\n",
    "        Training vector, where n_samples is the number of samples and\n",
    "        n_features is the number of features.\n",
    "\n",
    "    y : array-like, shape (n_samples) or (n_samples, n_features), optional\n",
    "        Target relative to X for classification or regression;\n",
    "        None for unsupervised learning.\n",
    "\n",
    "    ylim : tuple, shape (ymin, ymax), optional\n",
    "        Defines minimum and maximum yvalues plotted.\n",
    "\n",
    "    cv : int, cross-validation generator or an iterable, optional\n",
    "        Determines the cross-validation splitting strategy.\n",
    "        Possible inputs for cv are:\n",
    "          - None, to use the default 3-fold cross-validation,\n",
    "          - integer, to specify the number of folds.\n",
    "          - An object to be used as a cross-validation generator.\n",
    "          - An iterable yielding train/test splits.\n",
    "\n",
    "        For integer/None inputs, if ``y`` is binary or multiclass,\n",
    "        :class:`StratifiedKFold` used. If the estimator is not a classifier\n",
    "        or if ``y`` is neither binary nor multiclass, :class:`KFold` is used.\n",
    "\n",
    "        Refer :ref:`User Guide <cross_validation>` for the various\n",
    "        cross-validators that can be used here.\n",
    "\n",
    "    n_jobs : integer, optional\n",
    "        Number of jobs to run in parallel (default 1).\n",
    "    \"\"\"\n",
    "    plt.figure()\n",
    "    plt.title(title)\n",
    "    if ylim is not None:\n",
    "        plt.ylim(*ylim)\n",
    "    plt.xlabel(\"Training examples\")\n",
    "    plt.ylabel(\"Score\")\n",
    "    train_sizes, train_scores, test_scores = learning_curve(\n",
    "        estimator, X, y, cv=cv, n_jobs=n_jobs, train_sizes=train_sizes)\n",
    "    train_scores_mean = np.mean(train_scores, axis=1)\n",
    "    train_scores_std = np.std(train_scores, axis=1)\n",
    "    test_scores_mean = np.mean(test_scores, axis=1)\n",
    "    test_scores_std = np.std(test_scores, axis=1)\n",
    "    plt.grid()\n",
    "\n",
    "    plt.fill_between(train_sizes, train_scores_mean - train_scores_std,\n",
    "                     train_scores_mean + train_scores_std, alpha=0.1,\n",
    "                     color=\"r\")\n",
    "    plt.fill_between(train_sizes, test_scores_mean - test_scores_std,\n",
    "                     test_scores_mean + test_scores_std, alpha=0.1, color=\"g\")\n",
    "    plt.plot(train_sizes, train_scores_mean, 'o-', color=\"r\",\n",
    "             label=\"Training score\")\n",
    "    plt.plot(train_sizes, test_scores_mean, 'o-', color=\"g\",\n",
    "             label=\"Cross-validation score\")\n",
    "\n",
    "    plt.legend(loc=\"best\")\n",
    "    return plt\n",
    "\n",
    "\n",
    "\n",
    "X, y = X_train, y_train\n",
    "\n",
    "\n",
    "title = \"Learning Curves (SVM, RBF kernel, $\\gamma=0.0085$)\"\n",
    "# SVC is more expensive so we do a lower number of CV iterations:\n",
    "#cv = ShuffleSplit(n_splits=10, test_size=0.3, random_state=99)\n",
    "estimator = SVC(C = 99, gamma = 0.0085, probability=True, random_state = 121)\n",
    "plot_learning_curve(estimator, title, X, y, (0.7, 1.01), cv= None, n_jobs= -1)\n",
    "\n",
    "plt.show()"
   ]
  },
  {
   "cell_type": "code",
   "execution_count": null,
   "metadata": {
    "collapsed": true
   },
   "outputs": [],
   "source": []
  }
 ],
 "metadata": {
  "kernelspec": {
   "display_name": "Python 2",
   "language": "python",
   "name": "python2"
  },
  "language_info": {
   "codemirror_mode": {
    "name": "ipython",
    "version": 2
   },
   "file_extension": ".py",
   "mimetype": "text/x-python",
   "name": "python",
   "nbconvert_exporter": "python",
   "pygments_lexer": "ipython2",
   "version": "2.7.13"
  }
 },
 "nbformat": 4,
 "nbformat_minor": 2
}
